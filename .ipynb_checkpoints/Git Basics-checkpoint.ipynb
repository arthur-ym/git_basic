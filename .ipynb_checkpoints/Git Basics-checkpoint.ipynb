{
 "cells": [
  {
   "cell_type": "markdown",
   "id": "c8c80d4d-b402-4094-95bf-66db7648a9ec",
   "metadata": {},
   "source": [
    "## Comandos"
   ]
  },
  {
   "cell_type": "markdown",
   "id": "5c8ff35b-b7ef-40e9-aafe-f91c80019d33",
   "metadata": {},
   "source": [
    "### Comandos basicos para 1 pessoa"
   ]
  },
  {
   "cell_type": "code",
   "execution_count": null,
   "id": "ffb17fbc-e305-4610-87fe-576dbaad58b9",
   "metadata": {},
   "outputs": [],
   "source": [
    "--configuracoes iniciais\n",
    "git config --global user.name “[firstname lastname]”\n",
    "git config --global user.email “[valid-email]”\n",
    "\n",
    "--inicia repositorio\n",
    "$ git init\n",
    "\n",
    "--adicionar staging area\n",
    "$ git add .\n",
    "$ git add <file-name-1> <file-name-2>\n",
    "\n",
    "--commita com mensagem\n",
    "$ git commit -m “<commit-message>”\n",
    "\n",
    "--add e comita\n",
    "$ git commit -am “<commit-message>”\n",
    "\n",
    "--joga pra repo online\n",
    "$ git push  \n",
    "$ git push <remote> <branch-name>\n",
    "\n",
    "--copia repo de online\n",
    "$ git clone <git-repo-url>\n",
    "$ git clone -branch <branch_name> <repo_url>\n",
    "\n",
    "A diferença é que o git clone irá clonar o repositório para a sua máquina local, criando uma pasta com os arquivos do repositório, e um arquivo .git. Já o git pull você roda dentro de um repositório já clonado, o que fará com que os arquivos presentes sejam atualizados com as alterações.\n",
    "\n",
    "--baixa do online\n",
    "$ git pull or $ git pull <remote> \n",
    "$ git pull <remote> <branch-name>"
   ]
  }
 ],
 "metadata": {
  "kernelspec": {
   "display_name": "Python 3 (ipykernel)",
   "language": "python",
   "name": "python3"
  },
  "language_info": {
   "codemirror_mode": {
    "name": "ipython",
    "version": 3
   },
   "file_extension": ".py",
   "mimetype": "text/x-python",
   "name": "python",
   "nbconvert_exporter": "python",
   "pygments_lexer": "ipython3",
   "version": "3.11.3"
  }
 },
 "nbformat": 4,
 "nbformat_minor": 5
}
