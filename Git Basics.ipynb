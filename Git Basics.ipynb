{
 "cells": [
  {
   "cell_type": "markdown",
   "id": "c8c80d4d-b402-4094-95bf-66db7648a9ec",
   "metadata": {},
   "source": [
    "## Comandos"
   ]
  },
  {
   "cell_type": "markdown",
   "id": "5c8ff35b-b7ef-40e9-aafe-f91c80019d33",
   "metadata": {},
   "source": [
    "### Comandos basicos para 1 pessoa"
   ]
  },
  {
   "cell_type": "code",
   "execution_count": null,
   "id": "ffb17fbc-e305-4610-87fe-576dbaad58b9",
   "metadata": {},
   "outputs": [],
   "source": [
    "#configuracoes iniciais\n",
    "git config --global user.name “[firstname lastname]”\n",
    "git config --global user.email “[valid-email]”\n",
    "\n",
    "#inicia repositorio\n",
    "$ git init\n",
    "\n",
    "#adicionar staging area\n",
    "$ git add .\n",
    "$ git add <file-name-1> <file-name-2>\n",
    "\n",
    "#commita com mensagem\n",
    "$ git commit -m “<commit-message>”\n",
    "\n",
    "#add e comita\n",
    "$ git commit -am “<commit-message>”\n",
    "\n",
    "#retorna para ultima versao commitada\n",
    "$ git restore \"Git Basics.ipynb\"\n",
    "\n",
    "#joga pra repo online\n",
    "$ git push  \n",
    "$ git push <remote> <branch-name>\n",
    "\n",
    "#If your intent was to blow those commits away on the remote branch, then you could do a force push, with \n",
    "git push --force-with-lease\n",
    "\n",
    "#copia repo de online\n",
    "$ git clone <git-repo-url>\n",
    "$ git clone -branch <branch_name> <repo_url>\n",
    "\n",
    "A diferença é que o git clone irá clonar o repositório para a sua máquina local, criando uma pasta com os arquivos do repositório, e um arquivo .git. \n",
    "Já o git pull você roda dentro de um repositório já clonado, o que fará com que os arquivos presentes sejam atualizados com as alterações.\n",
    "\n",
    "#baixa do online\n",
    "$ git pull or $ git pull <remote> \n",
    "$ git pull <remote> <branch-name>"
   ]
  },
  {
   "cell_type": "markdown",
   "id": "b191f33b-6d94-4718-b519-a909108c12c7",
   "metadata": {},
   "source": [
    "### Gerenciando Branchs"
   ]
  },
  {
   "cell_type": "markdown",
   "id": "a134f0cc",
   "metadata": {},
   "source": [
    "https://www.nobledesktop.com/learn/git/git-branches"
   ]
  },
  {
   "cell_type": "code",
   "execution_count": null,
   "id": "cd1ff7b9",
   "metadata": {},
   "outputs": [],
   "source": [
    "#cria branch novo\n",
    "$ git branch <branch-name>\n",
    "\n",
    "#cria branch e da checkout para ela\n",
    "$ git checkout -b branch_ajuste\n",
    "\n",
    "#trocar de branch\n",
    "$ git checkout <branch-name>\n",
    "\n",
    "#mergeando quando se esta na master \n",
    "$ git merge branch_secundaria\n",
    "\n",
    "#deleta\n",
    "$ git branch -d my-branch-name # so se deu merge\n",
    "$ git branch -D my-branch-name # na força"
   ]
  },
  {
   "cell_type": "markdown",
   "id": "08dedc05",
   "metadata": {},
   "source": [
    "### Reset e Revert"
   ]
  },
  {
   "cell_type": "markdown",
   "id": "49e1424d",
   "metadata": {},
   "source": [
    "When using git reset --soft HEAD~1 you will remove the last commit from the current branch, but the file changes will stay in your working tree. Also, the changes will stay on your index, so following with a git commit will create a commit with the exact same changes as the commit you \"removed\" before."
   ]
  },
  {
   "cell_type": "code",
   "execution_count": null,
   "id": "c4607d2c",
   "metadata": {},
   "outputs": [],
   "source": [
    "git reset --soft HEAD^ #reseta ultimo commit \n",
    "\n",
    "git reset --hard commit_hash # no caso de dar tudo errado\n",
    "\n",
    "git revert commit_hash #reverte"
   ]
  },
  {
   "cell_type": "markdown",
   "id": "bc11493d",
   "metadata": {},
   "source": [
    "####  When to use Git Revert vs Reset\n",
    "\n",
    "###### Git Revert \n",
    "Using git revert, you have the ability to go back to previous states while creating a new commit.\n",
    "\n",
    "Go for this option if you want to undo changes on a public branch, for safety.\n",
    "\n",
    "###### Git Reset\n",
    "With git reset, you can go back to the previous commits, but can’t create a new commit. \n",
    "\n",
    "This option is better when undoing changes on a private branch."
   ]
  },
  {
   "cell_type": "markdown",
   "id": "faa30878",
   "metadata": {},
   "source": [
    "### Checkout x Switch"
   ]
  },
  {
   "cell_type": "markdown",
   "id": "924f67b3",
   "metadata": {},
   "source": [
    "O switch, no caso, é para alternar entre diferentes branches (ou simplesmente \"mudar de branch\"). Ou seja, se antes fazíamos git checkout branch para mudar para um branch, agora podemos fazer git switch branch. Ou ainda git checkout -b branch para criar o branch e já mudar para ele, agora podemos usar git switch -c branch para fazer o mesmo.\n",
    "\n",
    "Mas como já dito, o checkout acumulava funções. Por exemplo, se eu modifiquei um arquivo e ainda não fiz git add, eu poderia fazer git checkout arquivo para que as alterações fossem revertidas e ele voltasse para o estado no qual estava no último commit. Já git switch arquivo dará erro, pois switch só trabalha com branches (aliás, para trabalhar com arquivos foi criado o restore, ou seja, bastaria fazer git restore arquivo para obter o mesmo efeito do checkout)."
   ]
  },
  {
   "cell_type": "markdown",
   "id": "34385fdd",
   "metadata": {},
   "source": [
    "   ### Git Ignore"
   ]
  },
  {
   "cell_type": "markdown",
   "id": "356fe505",
   "metadata": {},
   "source": [
    "##### configuracoes comuns \n",
    "https://gist.github.com/octocat/9257657"
   ]
  },
  {
   "cell_type": "code",
   "execution_count": 2,
   "id": "3c4305c4",
   "metadata": {
    "collapsed": true
   },
   "outputs": [
    {
     "ename": "SyntaxError",
     "evalue": "invalid syntax (2288138901.py, line 6)",
     "output_type": "error",
     "traceback": [
      "\u001b[1;36m  Cell \u001b[1;32mIn[2], line 6\u001b[1;36m\u001b[0m\n\u001b[1;33m    git rm --cached <file>\u001b[0m\n\u001b[1;37m        ^\u001b[0m\n\u001b[1;31mSyntaxError\u001b[0m\u001b[1;31m:\u001b[0m invalid syntax\n"
     ]
    }
   ],
   "source": [
    "# cria arquivo git ignore\n",
    "touch .gitignore\n",
    "    \n",
    "#To stop tracking a file, we must remove it from the index:\n",
    "\n",
    "git rm --cached <file>\n",
    "\n",
    "#To remove a folder and all files in the folder recursively:\n",
    "\n",
    "git rm -r --cached <folder>"
   ]
  },
  {
   "cell_type": "code",
   "execution_count": null,
   "id": "0ffa9903",
   "metadata": {},
   "outputs": [],
   "source": [
    "#For example, if you want to ignore a text.txt file located in the root directory, you would do the following:\n",
    "/text.txt\n",
    "\n",
    "#And if you wanted to ignore a text.txt file located in a test directory at the root directory, you would do the following:\n",
    "/test/text.txt\n",
    "\n",
    "#You could also write the above like so:\n",
    "test/text.txt\n",
    "\n",
    "#If you want to ignore all files with a specific name, you need to write the literal name of the file.\n",
    "#For example, if you wanted to ignore any text.txt files, you would add the following to .gitignore:\n",
    "text.txt\n",
    "\n",
    "#In this case, you don't need to provide the full path to a specific file. This pattern will ignore all files with that particular name that are located anywhere in the project.\n",
    "#To ignore an entire directory with all its contents, you need to include the name of the directory with the slash / at the end:\n",
    "test/\n",
    "\n",
    "#This command will ignore all files and directories that have a name starting with img.\n",
    "img*\n",
    "\n",
    "#ignore any files or directories that end with a specific word\n",
    "#if you wanted to ignore all markdown files that end with a .md file extension\n",
    "#you would add the following to your .gitignore file:\n",
    "*.md"
   ]
  }
 ],
 "metadata": {
  "kernelspec": {
   "display_name": "Python 3 (ipykernel)",
   "language": "python",
   "name": "python3"
  },
  "language_info": {
   "codemirror_mode": {
    "name": "ipython",
    "version": 3
   },
   "file_extension": ".py",
   "mimetype": "text/x-python",
   "name": "python",
   "nbconvert_exporter": "python",
   "pygments_lexer": "ipython3",
   "version": "3.11.3"
  },
  "widgets": {
   "application/vnd.jupyter.widget-state+json": {
    "state": {},
    "version_major": 2,
    "version_minor": 0
   }
  }
 },
 "nbformat": 4,
 "nbformat_minor": 5
}
